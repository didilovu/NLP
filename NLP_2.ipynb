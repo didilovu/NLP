{
 "cells": [
  {
   "cell_type": "code",
   "execution_count": 3,
   "id": "3c0b6050",
   "metadata": {},
   "outputs": [
    {
     "name": "stdout",
     "output_type": "stream",
     "text": [
      "Collecting spacy==3.6.1\n",
      "  Downloading spacy-3.6.1-cp310-cp310-win_amd64.whl (12.0 MB)\n",
      "     ---------------------------------------- 12.0/12.0 MB 6.5 MB/s eta 0:00:00\n",
      "Collecting preshed<3.1.0,>=3.0.2\n",
      "  Using cached preshed-3.0.9-cp310-cp310-win_amd64.whl (122 kB)\n",
      "Requirement already satisfied: numpy>=1.15.0 in d:\\conda\\lib\\site-packages (from spacy==3.6.1) (1.23.5)\n",
      "Collecting wasabi<1.2.0,>=0.9.1\n",
      "  Downloading wasabi-1.1.2-py3-none-any.whl (27 kB)\n",
      "Collecting pathy>=0.10.0\n",
      "  Using cached pathy-0.10.2-py3-none-any.whl (48 kB)\n",
      "Requirement already satisfied: tqdm<5.0.0,>=4.38.0 in d:\\conda\\lib\\site-packages (from spacy==3.6.1) (4.64.1)\n",
      "Collecting murmurhash<1.1.0,>=0.28.0\n",
      "  Using cached murmurhash-1.0.10-cp310-cp310-win_amd64.whl (25 kB)\n",
      "Collecting spacy-loggers<2.0.0,>=1.0.0\n",
      "  Downloading spacy_loggers-1.0.5-py3-none-any.whl (22 kB)\n",
      "Requirement already satisfied: pydantic!=1.8,!=1.8.1,<3.0.0,>=1.7.4 in d:\\conda\\lib\\site-packages (from spacy==3.6.1) (1.10.7)\n",
      "Collecting cymem<2.1.0,>=2.0.2\n",
      "  Using cached cymem-2.0.8-cp310-cp310-win_amd64.whl (39 kB)\n",
      "Collecting typer<0.10.0,>=0.3.0\n",
      "  Using cached typer-0.9.0-py3-none-any.whl (45 kB)\n",
      "Requirement already satisfied: smart-open<7.0.0,>=5.2.1 in d:\\conda\\lib\\site-packages (from spacy==3.6.1) (5.2.1)\n",
      "Collecting langcodes<4.0.0,>=3.2.0\n",
      "  Downloading langcodes-3.3.0-py3-none-any.whl (181 kB)\n",
      "     ------------------------------------- 181.6/181.6 kB 10.7 MB/s eta 0:00:00\n",
      "Requirement already satisfied: packaging>=20.0 in d:\\conda\\lib\\site-packages (from spacy==3.6.1) (22.0)\n",
      "Collecting thinc<8.2.0,>=8.1.8\n",
      "  Downloading thinc-8.1.12-cp310-cp310-win_amd64.whl (1.5 MB)\n",
      "     ---------------------------------------- 1.5/1.5 MB 9.4 MB/s eta 0:00:00\n",
      "Collecting spacy-legacy<3.1.0,>=3.0.11\n",
      "  Downloading spacy_legacy-3.0.12-py2.py3-none-any.whl (29 kB)\n",
      "Requirement already satisfied: catalogue<2.1.0,>=2.0.6 in d:\\conda\\lib\\site-packages (from spacy==3.6.1) (2.0.10)\n",
      "Requirement already satisfied: jinja2 in d:\\conda\\lib\\site-packages (from spacy==3.6.1) (3.1.2)\n",
      "Requirement already satisfied: srsly<3.0.0,>=2.4.3 in d:\\conda\\lib\\site-packages (from spacy==3.6.1) (2.4.8)\n",
      "Requirement already satisfied: setuptools in d:\\conda\\lib\\site-packages (from spacy==3.6.1) (65.6.3)\n",
      "Requirement already satisfied: requests<3.0.0,>=2.13.0 in d:\\conda\\lib\\site-packages (from spacy==3.6.1) (2.28.1)\n",
      "Requirement already satisfied: typing-extensions>=4.2.0 in d:\\conda\\lib\\site-packages (from pydantic!=1.8,!=1.8.1,<3.0.0,>=1.7.4->spacy==3.6.1) (4.4.0)\n",
      "Requirement already satisfied: urllib3<1.27,>=1.21.1 in d:\\conda\\lib\\site-packages (from requests<3.0.0,>=2.13.0->spacy==3.6.1) (1.26.14)\n",
      "Requirement already satisfied: idna<4,>=2.5 in d:\\conda\\lib\\site-packages (from requests<3.0.0,>=2.13.0->spacy==3.6.1) (3.4)\n",
      "Requirement already satisfied: charset-normalizer<3,>=2 in d:\\conda\\lib\\site-packages (from requests<3.0.0,>=2.13.0->spacy==3.6.1) (2.0.4)\n",
      "Requirement already satisfied: certifi>=2017.4.17 in d:\\conda\\lib\\site-packages (from requests<3.0.0,>=2.13.0->spacy==3.6.1) (2022.12.7)\n",
      "Collecting blis<0.8.0,>=0.7.8\n",
      "  Using cached blis-0.7.11-cp310-cp310-win_amd64.whl (6.6 MB)\n",
      "Collecting confection<1.0.0,>=0.0.1\n",
      "  Downloading confection-0.1.3-py3-none-any.whl (34 kB)\n",
      "Requirement already satisfied: colorama in d:\\conda\\lib\\site-packages (from tqdm<5.0.0,>=4.38.0->spacy==3.6.1) (0.4.6)\n",
      "Requirement already satisfied: click<9.0.0,>=7.1.1 in d:\\conda\\lib\\site-packages (from typer<0.10.0,>=0.3.0->spacy==3.6.1) (8.0.4)\n",
      "Requirement already satisfied: MarkupSafe>=2.0 in d:\\conda\\lib\\site-packages (from jinja2->spacy==3.6.1) (2.1.1)\n",
      "Installing collected packages: cymem, wasabi, spacy-loggers, spacy-legacy, murmurhash, langcodes, blis, typer, preshed, confection, thinc, pathy, spacy\n",
      "Successfully installed blis-0.7.11 confection-0.1.3 cymem-2.0.8 langcodes-3.3.0 murmurhash-1.0.10 pathy-0.10.2 preshed-3.0.9 spacy-3.6.1 spacy-legacy-3.0.12 spacy-loggers-1.0.5 thinc-8.1.12 typer-0.9.0 wasabi-1.1.2\n",
      "Note: you may need to restart the kernel to use updated packages.\n"
     ]
    },
    {
     "name": "stderr",
     "output_type": "stream",
     "text": [
      "WARNING: Ignoring invalid distribution -orch (d:\\conda\\lib\\site-packages)\n",
      "WARNING: Ignoring invalid distribution -orch (d:\\conda\\lib\\site-packages)\n",
      "WARNING: Ignoring invalid distribution -orch (d:\\conda\\lib\\site-packages)\n",
      "WARNING: Ignoring invalid distribution -orch (d:\\conda\\lib\\site-packages)\n",
      "WARNING: Ignoring invalid distribution -orch (d:\\conda\\lib\\site-packages)\n",
      "WARNING: Ignoring invalid distribution -orch (d:\\conda\\lib\\site-packages)\n",
      "WARNING: Ignoring invalid distribution -orch (d:\\conda\\lib\\site-packages)\n",
      "WARNING: Ignoring invalid distribution -orch (d:\\conda\\lib\\site-packages)\n",
      "WARNING: Ignoring invalid distribution -orch (d:\\conda\\lib\\site-packages)\n",
      "WARNING: Ignoring invalid distribution -orch (d:\\conda\\lib\\site-packages)\n",
      "WARNING: Ignoring invalid distribution -orch (d:\\conda\\lib\\site-packages)\n",
      "WARNING: Ignoring invalid distribution -orch (d:\\conda\\lib\\site-packages)\n",
      "WARNING: Ignoring invalid distribution -orch (d:\\conda\\lib\\site-packages)\n",
      "WARNING: Ignoring invalid distribution -orch (d:\\conda\\lib\\site-packages)\n",
      "WARNING: Ignoring invalid distribution -orch (d:\\conda\\lib\\site-packages)\n",
      "WARNING: Ignoring invalid distribution -orch (d:\\conda\\lib\\site-packages)\n",
      "WARNING: Ignoring invalid distribution -orch (d:\\conda\\lib\\site-packages)\n",
      "WARNING: Ignoring invalid distribution -orch (d:\\conda\\lib\\site-packages)\n",
      "WARNING: Ignoring invalid distribution -orch (d:\\conda\\lib\\site-packages)\n"
     ]
    },
    {
     "name": "stdout",
     "output_type": "stream",
     "text": [
      "Requirement already satisfied: ml-datasets in d:\\conda\\lib\\site-packages (0.2.0)\n",
      "Requirement already satisfied: tqdm<5.0.0,>=4.10.0 in d:\\conda\\lib\\site-packages (from ml-datasets) (4.64.1)\n",
      "Requirement already satisfied: numpy>=1.7.0 in d:\\conda\\lib\\site-packages (from ml-datasets) (1.23.5)\n",
      "Requirement already satisfied: catalogue<3.0.0,>=0.2.0 in d:\\conda\\lib\\site-packages (from ml-datasets) (2.0.10)\n",
      "Requirement already satisfied: srsly<3.0.0,>=1.0.1 in d:\\conda\\lib\\site-packages (from ml-datasets) (2.4.8)\n",
      "Requirement already satisfied: colorama in d:\\conda\\lib\\site-packages (from tqdm<5.0.0,>=4.10.0->ml-datasets) (0.4.6)\n",
      "Note: you may need to restart the kernel to use updated packages.\n"
     ]
    },
    {
     "name": "stderr",
     "output_type": "stream",
     "text": [
      "WARNING: Ignoring invalid distribution -orch (d:\\conda\\lib\\site-packages)\n",
      "WARNING: Ignoring invalid distribution -orch (d:\\conda\\lib\\site-packages)\n",
      "WARNING: Ignoring invalid distribution -orch (d:\\conda\\lib\\site-packages)\n",
      "WARNING: Ignoring invalid distribution -orch (d:\\conda\\lib\\site-packages)\n",
      "WARNING: Ignoring invalid distribution -orch (d:\\conda\\lib\\site-packages)\n",
      "WARNING: Ignoring invalid distribution -orch (d:\\conda\\lib\\site-packages)\n"
     ]
    },
    {
     "name": "stdout",
     "output_type": "stream",
     "text": [
      "Collecting en-core-web-md==3.6.0\n",
      "  Downloading https://github.com/explosion/spacy-models/releases/download/en_core_web_md-3.6.0/en_core_web_md-3.6.0-py3-none-any.whl (42.8 MB)\n",
      "     ---------------------------------------- 42.8/42.8 MB 5.8 MB/s eta 0:00:00\n",
      "Requirement already satisfied: spacy<3.7.0,>=3.6.0 in d:\\conda\\lib\\site-packages (from en-core-web-md==3.6.0) (3.6.1)\n",
      "Requirement already satisfied: catalogue<2.1.0,>=2.0.6 in d:\\conda\\lib\\site-packages (from spacy<3.7.0,>=3.6.0->en-core-web-md==3.6.0) (2.0.10)\n",
      "Requirement already satisfied: pydantic!=1.8,!=1.8.1,<3.0.0,>=1.7.4 in d:\\conda\\lib\\site-packages (from spacy<3.7.0,>=3.6.0->en-core-web-md==3.6.0) (1.10.7)\n",
      "Requirement already satisfied: preshed<3.1.0,>=3.0.2 in d:\\conda\\lib\\site-packages (from spacy<3.7.0,>=3.6.0->en-core-web-md==3.6.0) (3.0.9)\n",
      "Requirement already satisfied: wasabi<1.2.0,>=0.9.1 in d:\\conda\\lib\\site-packages (from spacy<3.7.0,>=3.6.0->en-core-web-md==3.6.0) (1.1.2)\n",
      "Requirement already satisfied: numpy>=1.15.0 in d:\\conda\\lib\\site-packages (from spacy<3.7.0,>=3.6.0->en-core-web-md==3.6.0) (1.23.5)\n",
      "Requirement already satisfied: smart-open<7.0.0,>=5.2.1 in d:\\conda\\lib\\site-packages (from spacy<3.7.0,>=3.6.0->en-core-web-md==3.6.0) (5.2.1)\n",
      "Requirement already satisfied: murmurhash<1.1.0,>=0.28.0 in d:\\conda\\lib\\site-packages (from spacy<3.7.0,>=3.6.0->en-core-web-md==3.6.0) (1.0.10)\n",
      "Requirement already satisfied: cymem<2.1.0,>=2.0.2 in d:\\conda\\lib\\site-packages (from spacy<3.7.0,>=3.6.0->en-core-web-md==3.6.0) (2.0.8)\n",
      "Requirement already satisfied: packaging>=20.0 in d:\\conda\\lib\\site-packages (from spacy<3.7.0,>=3.6.0->en-core-web-md==3.6.0) (22.0)\n",
      "Requirement already satisfied: requests<3.0.0,>=2.13.0 in d:\\conda\\lib\\site-packages (from spacy<3.7.0,>=3.6.0->en-core-web-md==3.6.0) (2.28.1)\n",
      "Requirement already satisfied: typer<0.10.0,>=0.3.0 in d:\\conda\\lib\\site-packages (from spacy<3.7.0,>=3.6.0->en-core-web-md==3.6.0) (0.9.0)\n",
      "Requirement already satisfied: setuptools in d:\\conda\\lib\\site-packages (from spacy<3.7.0,>=3.6.0->en-core-web-md==3.6.0) (65.6.3)\n",
      "Requirement already satisfied: jinja2 in d:\\conda\\lib\\site-packages (from spacy<3.7.0,>=3.6.0->en-core-web-md==3.6.0) (3.1.2)\n",
      "Requirement already satisfied: srsly<3.0.0,>=2.4.3 in d:\\conda\\lib\\site-packages (from spacy<3.7.0,>=3.6.0->en-core-web-md==3.6.0) (2.4.8)\n",
      "Requirement already satisfied: spacy-legacy<3.1.0,>=3.0.11 in d:\\conda\\lib\\site-packages (from spacy<3.7.0,>=3.6.0->en-core-web-md==3.6.0) (3.0.12)\n",
      "Requirement already satisfied: thinc<8.2.0,>=8.1.8 in d:\\conda\\lib\\site-packages (from spacy<3.7.0,>=3.6.0->en-core-web-md==3.6.0) (8.1.12)\n",
      "Requirement already satisfied: spacy-loggers<2.0.0,>=1.0.0 in d:\\conda\\lib\\site-packages (from spacy<3.7.0,>=3.6.0->en-core-web-md==3.6.0) (1.0.5)\n",
      "Requirement already satisfied: langcodes<4.0.0,>=3.2.0 in d:\\conda\\lib\\site-packages (from spacy<3.7.0,>=3.6.0->en-core-web-md==3.6.0) (3.3.0)\n",
      "Requirement already satisfied: pathy>=0.10.0 in d:\\conda\\lib\\site-packages (from spacy<3.7.0,>=3.6.0->en-core-web-md==3.6.0) (0.10.2)\n",
      "Requirement already satisfied: tqdm<5.0.0,>=4.38.0 in d:\\conda\\lib\\site-packages (from spacy<3.7.0,>=3.6.0->en-core-web-md==3.6.0) (4.64.1)\n",
      "Requirement already satisfied: typing-extensions>=4.2.0 in d:\\conda\\lib\\site-packages (from pydantic!=1.8,!=1.8.1,<3.0.0,>=1.7.4->spacy<3.7.0,>=3.6.0->en-core-web-md==3.6.0) (4.4.0)\n",
      "Requirement already satisfied: charset-normalizer<3,>=2 in d:\\conda\\lib\\site-packages (from requests<3.0.0,>=2.13.0->spacy<3.7.0,>=3.6.0->en-core-web-md==3.6.0) (2.0.4)\n",
      "Requirement already satisfied: certifi>=2017.4.17 in d:\\conda\\lib\\site-packages (from requests<3.0.0,>=2.13.0->spacy<3.7.0,>=3.6.0->en-core-web-md==3.6.0) (2022.12.7)\n",
      "Requirement already satisfied: idna<4,>=2.5 in d:\\conda\\lib\\site-packages (from requests<3.0.0,>=2.13.0->spacy<3.7.0,>=3.6.0->en-core-web-md==3.6.0) (3.4)\n",
      "Requirement already satisfied: urllib3<1.27,>=1.21.1 in d:\\conda\\lib\\site-packages (from requests<3.0.0,>=2.13.0->spacy<3.7.0,>=3.6.0->en-core-web-md==3.6.0) (1.26.14)\n",
      "Requirement already satisfied: confection<1.0.0,>=0.0.1 in d:\\conda\\lib\\site-packages (from thinc<8.2.0,>=8.1.8->spacy<3.7.0,>=3.6.0->en-core-web-md==3.6.0) (0.1.3)\n",
      "Requirement already satisfied: blis<0.8.0,>=0.7.8 in d:\\conda\\lib\\site-packages (from thinc<8.2.0,>=8.1.8->spacy<3.7.0,>=3.6.0->en-core-web-md==3.6.0) (0.7.11)\n",
      "Requirement already satisfied: colorama in d:\\conda\\lib\\site-packages (from tqdm<5.0.0,>=4.38.0->spacy<3.7.0,>=3.6.0->en-core-web-md==3.6.0) (0.4.6)\n",
      "Requirement already satisfied: click<9.0.0,>=7.1.1 in d:\\conda\\lib\\site-packages (from typer<0.10.0,>=0.3.0->spacy<3.7.0,>=3.6.0->en-core-web-md==3.6.0) (8.0.4)\n",
      "Requirement already satisfied: MarkupSafe>=2.0 in d:\\conda\\lib\\site-packages (from jinja2->spacy<3.7.0,>=3.6.0->en-core-web-md==3.6.0) (2.1.1)\n",
      "Installing collected packages: en-core-web-md\n",
      "Successfully installed en-core-web-md-3.6.0\n",
      "\u001b[38;5;2m[+] Download and installation successful\u001b[0m\n",
      "You can now load the package via spacy.load('en_core_web_md')\n"
     ]
    },
    {
     "name": "stderr",
     "output_type": "stream",
     "text": [
      "WARNING: Ignoring invalid distribution -orch (d:\\conda\\lib\\site-packages)\n",
      "WARNING: Ignoring invalid distribution -orch (d:\\conda\\lib\\site-packages)\n",
      "WARNING: Ignoring invalid distribution -orch (d:\\conda\\lib\\site-packages)\n",
      "WARNING: Ignoring invalid distribution -orch (d:\\conda\\lib\\site-packages)\n",
      "WARNING: Ignoring invalid distribution -orch (d:\\conda\\lib\\site-packages)\n",
      "WARNING: Ignoring invalid distribution -orch (d:\\conda\\lib\\site-packages)\n",
      "WARNING: Ignoring invalid distribution -orch (d:\\conda\\lib\\site-packages)\n"
     ]
    }
   ],
   "source": [
    "%pip install spacy==3.6.1\n",
    "%pip install ml-datasets\n",
    "!python -m spacy download en_core_web_md"
   ]
  },
  {
   "cell_type": "code",
   "execution_count": 84,
   "id": "5d80b2d5",
   "metadata": {},
   "outputs": [],
   "source": [
    "import spacy\n",
    "import numpy as np\n",
    "from tqdm.auto import tqdm\n",
    "from spacy.tokens import DocBin\n",
    "from sklearn.model_selection import train_test_split"
   ]
  },
  {
   "cell_type": "code",
   "execution_count": 64,
   "id": "4f5ee913",
   "metadata": {},
   "outputs": [],
   "source": [
    "nlp = spacy.load(\"en_core_web_md\") # может занять 5 минут"
   ]
  },
  {
   "cell_type": "code",
   "execution_count": 92,
   "id": "1803795f",
   "metadata": {},
   "outputs": [],
   "source": [
    "df=pd.read_csv('women-clothing-accessories.3-class.balanced.csv', encoding='utf8', sep='\\t')\n",
    "df=df[df['sentiment']!='neautral']\n",
    "#train_data, valid_data = train_test_split(df,test_size=0.3, random_state=42)\n",
    "train, val, test = np.split(df.sample(frac=1, random_state=42), [int(.6*len(df)), int(.8*len(df))])"
   ]
  },
  {
   "cell_type": "code",
   "execution_count": 56,
   "id": "da1acfac",
   "metadata": {},
   "outputs": [
    {
     "data": {
      "text/plain": [
       "['tok2vec', 'tagger', 'parser', 'attribute_ruler', 'lemmatizer', 'ner']"
      ]
     },
     "execution_count": 56,
     "metadata": {},
     "output_type": "execute_result"
    }
   ],
   "source": [
    "nlp.pipe_names"
   ]
  },
  {
   "cell_type": "code",
   "execution_count": 122,
   "id": "1bd4f2d8",
   "metadata": {},
   "outputs": [
    {
     "data": {
      "text/plain": [
       "<generator object Language.pipe at 0x0000015BA6F9D230>"
      ]
     },
     "execution_count": 122,
     "metadata": {},
     "output_type": "execute_result"
    }
   ],
   "source": [
    "nlp.pipe(train, as_tuples=True)"
   ]
  },
  {
   "cell_type": "code",
   "execution_count": 134,
   "id": "1d3eef9a",
   "metadata": {},
   "outputs": [],
   "source": [
    "def make_docs(data):\n",
    "    \"\"\"\n",
    "    this will take a list of texts and labels\n",
    "    and transform them in spacy documents\n",
    "    data: list(tuple(text, label))\n",
    "    returns: List(spacy.Doc.doc)\n",
    "    \"\"\"\n",
    "    docs = []\n",
    "    for doc, label in tqdm(nlp.pipe(data, as_tuples=True), total = len(data)):\n",
    "        # One Hot Encodding\n",
    "        if label == 'negative':\n",
    "            doc.cats[\"positive\"] = 0\n",
    "            doc.cats[\"negative\"] = 1\n",
    "        else:\n",
    "            doc.cats[\"positive\"] = 1\n",
    "            doc.cats[\"negative\"] = 0\n",
    "        docs.append(doc)\n",
    "    return docs"
   ]
  },
  {
   "cell_type": "code",
   "execution_count": 142,
   "id": "954f9993",
   "metadata": {},
   "outputs": [],
   "source": [
    "train=train.to_numpy()\n",
    "val = val.to_numpy()\n",
    "test = test.to_numpy()"
   ]
  },
  {
   "cell_type": "code",
   "execution_count": 139,
   "id": "64eb9220",
   "metadata": {},
   "outputs": [
    {
     "data": {
      "application/vnd.jupyter.widget-view+json": {
       "model_id": "714e39f96a2b4db5bc90a931f39d715b",
       "version_major": 2,
       "version_minor": 0
      },
      "text/plain": [
       "  0%|          | 0/36000 [00:00<?, ?it/s]"
      ]
     },
     "metadata": {},
     "output_type": "display_data"
    }
   ],
   "source": [
    "# это для примера, можно взять больше количество текстов\n",
    "train_docs = make_docs(train)"
   ]
  },
  {
   "cell_type": "code",
   "execution_count": 143,
   "id": "3ee1d9b3",
   "metadata": {},
   "outputs": [
    {
     "data": {
      "application/vnd.jupyter.widget-view+json": {
       "model_id": "e154da466e5c43eaa0df8fd6405f8e86",
       "version_major": 2,
       "version_minor": 0
      },
      "text/plain": [
       "  0%|          | 0/12000 [00:00<?, ?it/s]"
      ]
     },
     "metadata": {},
     "output_type": "display_data"
    }
   ],
   "source": [
    "# then we save it in a binary file to disc\n",
    "doc_bin = DocBin(docs=train_docs)\n",
    "doc_bin.to_disk(\"train.spacy\")\n",
    "# repeat for validation data\n",
    "valid_docs = make_docs(val)\n",
    "doc_bin = DocBin(docs=valid_docs)\n",
    "doc_bin.to_disk(\"valid.spacy\")"
   ]
  },
  {
   "cell_type": "code",
   "execution_count": 144,
   "id": "58406964",
   "metadata": {},
   "outputs": [
    {
     "name": "stdout",
     "output_type": "stream",
     "text": [
      "\u001b[38;5;2m[+] Auto-filled config with all values\u001b[0m\n",
      "\u001b[38;5;2m[+] Saved config\u001b[0m\n",
      "config.cfg\n",
      "You can now add your data and train your pipeline:\n",
      "python -m spacy train config.cfg --paths.train ./train.spacy --paths.dev ./dev.spacy\n"
     ]
    }
   ],
   "source": [
    "# что здесь происходит: мы заполнили base_config, а эта команда на его основе прописывает config.cfg\n",
    "! python -m spacy init fill-config base_config.cfg config.cfg\n",
    "# после запуска этой команды нужно уменьшить max_steps и прописать пути train и dev"
   ]
  },
  {
   "cell_type": "code",
   "execution_count": 145,
   "id": "1921919c",
   "metadata": {},
   "outputs": [
    {
     "name": "stdout",
     "output_type": "stream",
     "text": [
      "\u001b[38;5;2m[+] Created output directory: output\u001b[0m\n",
      "\u001b[38;5;4m[i] Saving to output directory: output\u001b[0m\n",
      "\u001b[38;5;4m[i] Using CPU\u001b[0m\n",
      "\u001b[1m\n",
      "=========================== Initializing pipeline ===========================\u001b[0m\n",
      "\u001b[38;5;2m[+] Initialized pipeline\u001b[0m\n",
      "\u001b[1m\n",
      "============================= Training pipeline =============================\u001b[0m\n",
      "\u001b[38;5;4m[i] Pipeline: ['textcat']\u001b[0m\n",
      "\u001b[38;5;4m[i] Initial learn rate: 0.001\u001b[0m\n",
      "E    #       LOSS TEXTCAT  CATS_SCORE  SCORE \n",
      "---  ------  ------------  ----------  ------\n",
      "  0       0          0.25       36.08    0.36\n",
      "  0     200         36.90       85.97    0.86\n",
      "  0     400         25.67       87.64    0.88\n",
      "  0     600         22.00       88.64    0.89\n",
      "  0     800         18.11       90.02    0.90\n",
      "  0    1000         17.37       90.93    0.91\n",
      "  0    1200         17.41       91.71    0.92\n",
      "  0    1400         13.56       91.69    0.92\n",
      "  0    1600         14.10       91.89    0.92\n",
      "  0    1800         12.98       92.02    0.92\n",
      "  0    2000         13.98       92.26    0.92\n",
      "  0    2200         12.13       92.88    0.93\n",
      "  0    2400         12.40       92.92    0.93\n",
      "  1    2600          9.09       92.97    0.93\n",
      "  1    2800          9.52       93.05    0.93\n",
      "  1    3000         10.06       93.12    0.93\n",
      "  1    3200          9.25       93.01    0.93\n",
      "  2    3400          8.53       93.10    0.93\n",
      "  2    3600          7.65       93.05    0.93\n",
      "  2    3800          7.69       93.00    0.93\n",
      "  2    4000          7.39       93.04    0.93\n",
      "  2    4200          7.89       93.14    0.93\n",
      "  3    4400          7.42       93.12    0.93\n",
      "  3    4600          6.58       93.13    0.93\n",
      "  3    4800          6.41       93.10    0.93\n",
      "  3    5000          6.62       93.10    0.93\n",
      "  3    5200          6.50       93.09    0.93\n",
      "  4    5400          6.35       93.03    0.93\n",
      "  4    5600          5.94       93.15    0.93\n",
      "  4    5800          5.98       93.17    0.93\n",
      "  4    6000          5.91       92.95    0.93\n",
      "  4    6200          5.66       93.06    0.93\n",
      "  5    6400          5.56       93.05    0.93\n",
      "  5    6600          4.89       93.18    0.93\n",
      "  5    6800          5.16       93.17    0.93\n",
      "  5    7000          5.67       93.02    0.93\n",
      "  5    7200          5.41       93.03    0.93\n",
      "  6    7400          4.67       93.04    0.93\n",
      "  6    7600          4.34       93.00    0.93\n",
      "  6    7800          4.98       93.00    0.93\n",
      "  6    8000          5.40       93.05    0.93\n",
      "  7    8200          4.92       92.97    0.93\n",
      "\u001b[38;5;2m[+] Saved pipeline to output directory\u001b[0m\n",
      "output\\model-last\n"
     ]
    }
   ],
   "source": [
    "# тренируем модель\n",
    "! python -m spacy train config.cfg --output ./output\n",
    "# данных мало, сильно на метрики внимания не обращаем"
   ]
  },
  {
   "cell_type": "code",
   "execution_count": 146,
   "id": "5cd25a34",
   "metadata": {},
   "outputs": [
    {
     "name": "stdout",
     "output_type": "stream",
     "text": [
      "type : ‘quit’ to exit\n",
      "Please enter example input: грязная\n",
      "грязная\n",
      "{'positive': 0.21902033686637878, 'negative': 0.7809796929359436}\n",
      "the sentiment is negative\n",
      "Please enter example input: приятно сидит\n",
      "приятно сидит\n",
      "{'positive': 0.6716068983078003, 'negative': 0.3283931016921997}\n",
      "the sentiment is positive\n",
      "Please enter example input: норм \n",
      "норм \n",
      "{'positive': 0.7977607846260071, 'negative': 0.2022392451763153}\n",
      "the sentiment is positive\n",
      "Please enter example input: не очень\n",
      "не очень\n",
      "{'positive': 0.24931465089321136, 'negative': 0.7506853938102722}\n",
      "the sentiment is negative\n",
      "Please enter example input: quit\n"
     ]
    }
   ],
   "source": [
    "# загружаем лучшую модель\n",
    "nlp = spacy.load(\"output/model-best\")\n",
    "text = \"\"\n",
    "print(\"type : ‘quit’ to exit\")\n",
    "# predict the sentiment until someone writes quit\n",
    "while True:\n",
    "    text = input(\"Please enter example input: \") # не обязательно в начальной форме\n",
    "    if text == \"quit\":\n",
    "        break\n",
    "    print(text)\n",
    "    doc = nlp(text)\n",
    "    print(doc.cats)\n",
    "    if doc.cats['positive'] >.5:\n",
    "        print(f\"the sentiment is positive\")\n",
    "    else:\n",
    "        print(f\"the sentiment is negative\")\n",
    "        \n",
    "# значения в пределах 0.5, модель не сильно уверена, нужно больше данных"
   ]
  }
 ],
 "metadata": {
  "kernelspec": {
   "display_name": "Python 3 (ipykernel)",
   "language": "python",
   "name": "python3"
  },
  "language_info": {
   "codemirror_mode": {
    "name": "ipython",
    "version": 3
   },
   "file_extension": ".py",
   "mimetype": "text/x-python",
   "name": "python",
   "nbconvert_exporter": "python",
   "pygments_lexer": "ipython3",
   "version": "3.10.9"
  }
 },
 "nbformat": 4,
 "nbformat_minor": 5
}
